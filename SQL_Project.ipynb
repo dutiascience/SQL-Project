{
  "nbformat": 4,
  "nbformat_minor": 0,
  "metadata": {
    "colab": {
      "provenance": []
    },
    "kernelspec": {
      "name": "python3",
      "display_name": "Python 3"
    },
    "language_info": {
      "name": "python"
    }
  },
  "cells": [
    {
      "cell_type": "markdown",
      "source": [
        "#Installing SQL"
      ],
      "metadata": {
        "id": "qkqxJHkOj-Ct"
      }
    },
    {
      "cell_type": "code",
      "execution_count": null,
      "metadata": {
        "colab": {
          "base_uri": "https://localhost:8080/"
        },
        "id": "6XRuqvyeYdsL",
        "outputId": "b58bd4c7-0b13-4ad1-d4ae-f98dbf470a16"
      },
      "outputs": [
        {
          "output_type": "stream",
          "name": "stdout",
          "text": [
            "Collecting pymysql\n",
            "  Downloading PyMySQL-1.1.0-py3-none-any.whl (44 kB)\n",
            "\u001b[?25l     \u001b[90m━━━━━━━━━━━━━━━━━━━━━━━━━━━━━━━━━━━━━━━━\u001b[0m \u001b[32m0.0/44.8 kB\u001b[0m \u001b[31m?\u001b[0m eta \u001b[36m-:--:--\u001b[0m\r\u001b[2K     \u001b[90m━━━━━━━━━━━━━━━━━━━━━━━━━━━━━━━━━━━━━━━━\u001b[0m \u001b[32m44.8/44.8 kB\u001b[0m \u001b[31m1.8 MB/s\u001b[0m eta \u001b[36m0:00:00\u001b[0m\n",
            "\u001b[?25hInstalling collected packages: pymysql\n",
            "Successfully installed pymysql-1.1.0\n"
          ]
        }
      ],
      "source": [
        "!pip install pymysql\n"
      ]
    },
    {
      "cell_type": "code",
      "source": [
        "%load_ext sql"
      ],
      "metadata": {
        "id": "5fVqdGHnZO-h"
      },
      "execution_count": null,
      "outputs": []
    },
    {
      "cell_type": "markdown",
      "source": [
        "#Create Database"
      ],
      "metadata": {
        "id": "1hxo28WokBqY"
      }
    },
    {
      "cell_type": "code",
      "source": [
        "%%sql\n",
        "sqlite:///stud_db.db"
      ],
      "metadata": {
        "id": "MgR0gZsvaKsY"
      },
      "execution_count": null,
      "outputs": []
    },
    {
      "cell_type": "markdown",
      "source": [
        "#Populating the Database"
      ],
      "metadata": {
        "id": "kZAWz4A5kPoH"
      }
    },
    {
      "cell_type": "code",
      "source": [
        "%%sql\n",
        "--- Personal Details Data\n",
        "CREATE TABLE personal_details (national_ID INTEGER(15) PRIMARY KEY,\n",
        "                               stud_ID VARCHAR(15),\n",
        "                               stud_name VARCHAR(100),\n",
        "                               phone_number VARCHAR(15),\n",
        "                               age INTEGER,\n",
        "                               gender VARCHAR(10)\n",
        "                              );\n",
        "\n",
        "INSERT INTO personal_details (national_ID,stud_ID,stud_name,phone_number,age,gender) VALUES\n",
        "                             (\"265834\",\"stud101\",\"Creed Bratton\" ,\"0712345678\",20,\"Male\"),\n",
        "                             (\"567903\",\"stud102\",\"Dwight Schrute\" ,\"0723456781\",21,\"Male\"),\n",
        "                             (\"478403\",\"stud103\",\"Darryl Philbin\" ,\"0734567812\",22,\"Male\"),\n",
        "                             (\"266302\",\"stud104\",\"Ryan Howard\" ,\"0745678123\",19,\"Male\"),\n",
        "                             (\"988781\",\"stud105\",\"Phyllis Vance\" ,\"0756781234\",21,\"Female\"),\n",
        "                             (\"307243\",\"stud106\",\"Stanley Hudson\" ,\"0767812345\",21,\"Male\"),\n",
        "                             (\"366932\",\"stud107\",\"Cece Halperk\" ,\"0778123456\",22,\"Female\"),\n",
        "                             (\"598920\",\"stud108\",\"Davina Wallace\" ,\"0781234567\",20,\"Female\"),\n",
        "                             (\"789261\",\"stud109\",\"Jim Halpert\" ,\"0722345678\",20,\"Male\"),\n",
        "                             (\"339152\",\"stud110\",\"Pam Beesly\" ,\"0733456781\",21,\"Female\"),\n",
        "                             (\"339746\",\"stud111\",\"Oscar Martinez\" ,\"0744567812\",20,\"Male\"),\n",
        "                             (\"336373\",\"stud112\",\"Kelly Kapoor\" ,\"0755678123\",22,\"Female\"),\n",
        "                             (\"325252\",\"stud113\",\"Jan Levinson\" ,\"0766456781\",21,\"Female\"),\n",
        "                             (\"321746\",\"stud114\",\"Angela Martins\" ,\"0741367812\",20,\"Male\"),\n",
        "                             (\"390234\",\"stud115\",\"Michael Scott\" ,\"0744421123\",22,\"Female\");"
      ],
      "metadata": {
        "colab": {
          "base_uri": "https://localhost:8080/"
        },
        "id": "yUhBy2NegYdy",
        "outputId": "8ebebe4b-a8ce-4f1c-cc1f-af2aeb338a17"
      },
      "execution_count": null,
      "outputs": [
        {
          "output_type": "stream",
          "name": "stdout",
          "text": [
            " * sqlite:///stud_db.db\n",
            "Done.\n",
            "15 rows affected.\n"
          ]
        },
        {
          "output_type": "execute_result",
          "data": {
            "text/plain": [
              "[]"
            ]
          },
          "metadata": {},
          "execution_count": 4
        }
      ]
    },
    {
      "cell_type": "code",
      "source": [
        "%%sql\n",
        "--- School Details Data\n",
        "CREATE TABLE school_details (stud_ID VARCHAR(15) PRIMARY KEY,\n",
        "                             current_home_county VARCHAR(20),\n",
        "                             secondary_school_county VARCHAR(20),\n",
        "                             residence VARCHAR(15),\n",
        "                             stud_email VARCHAR(50)\n",
        "                            );\n",
        "\n",
        "INSERT INTO school_details (stud_ID)\n",
        "SELECT stud_ID\n",
        "FROM personal_details;\n",
        "\n",
        "UPDATE school_details\n",
        "SET stud_email = (SELECT (REPLACE (stud_name,' ','') || '@zinduaschool.ac')\n",
        "\t\t\t\t\t        FROM personal_details\n",
        "\t\t\t\t\t        WHERE school_details.stud_ID = personal_details.stud_ID) ;\n",
        "\n",
        "UPDATE school_details SET current_home_county=\"Nakuru\", secondary_school_county=\"Nairobi\", residence=\"In school\" WHERE stud_ID=\"stud101\";\n",
        "UPDATE school_details SET current_home_county=\"Nairobi\", secondary_school_county=\"Nakuru\", residence=\"In school\" WHERE stud_ID=\"stud102\";\n",
        "UPDATE school_details SET current_home_county=\"Samburu\", secondary_school_county=\"Nairobi\", residence=\"Out of school\" WHERE stud_ID=\"stud103\";\n",
        "UPDATE school_details SET current_home_county=\"Kericho\", secondary_school_county=\"Nairobi\", residence=\"In school\" WHERE stud_ID=\"stud104\";\n",
        "UPDATE school_details SET current_home_county=\"Nyamira\", secondary_school_county=\"Nakuru\", residence=\"In school\" WHERE stud_ID=\"stud105\";\n",
        "UPDATE school_details SET current_home_county=\"Kisumu\", secondary_school_county=\"Nairobi\", residence=\"Out of school\" WHERE stud_ID=\"stud106\";\n",
        "UPDATE school_details SET current_home_county=\"Nakuru\", secondary_school_county=\"Nairobi\", residence=\"Out of school\" WHERE stud_ID=\"stud107\";\n",
        "UPDATE school_details SET current_home_county=\"Kisumu\", secondary_school_county=\"Mombasa\", residence=\"Out of school\" WHERE stud_ID=\"stud108\";\n",
        "UPDATE school_details SET current_home_county=\"Kericho\", secondary_school_county=\"Mombasa\", residence=\"In school\" WHERE stud_ID=\"stud109\";\n",
        "UPDATE school_details SET current_home_county=\"Nakuru\", secondary_school_county=\"Mombasa\", residence=\"In school\" WHERE stud_ID=\"stud110\";\n",
        "UPDATE school_details SET current_home_county=\"Kiambu\", secondary_school_county=\"Turkana\", residence=\"In school\" WHERE stud_ID=\"stud111\";\n",
        "UPDATE school_details SET current_home_county=\"Nairobi\", secondary_school_county=\"Nakuru\", residence=\"In school\" WHERE stud_ID=\"stud112\";\n",
        "UPDATE school_details SET current_home_county=\"Samburu\", secondary_school_county=\"Taita Taveta\", residence=\"In school\" WHERE stud_ID=\"stud113\";\n",
        "UPDATE school_details SET current_home_county=\"Kericho\", secondary_school_county=\"Nairobi\", residence=\"Out of school\" WHERE stud_ID=\"stud114\";\n",
        "UPDATE school_details SET current_home_county=\"Kiambu\", secondary_school_county=\"Mombasa\", residence=\"In school\" WHERE stud_ID=\"stud115\";\n"
      ],
      "metadata": {
        "colab": {
          "base_uri": "https://localhost:8080/"
        },
        "id": "YMz24atYg5xH",
        "outputId": "bc541894-b230-4973-e02a-2ed256a58fce"
      },
      "execution_count": null,
      "outputs": [
        {
          "output_type": "stream",
          "name": "stdout",
          "text": [
            " * sqlite:///stud_db.db\n",
            "Done.\n",
            "15 rows affected.\n",
            "15 rows affected.\n",
            "1 rows affected.\n",
            "1 rows affected.\n",
            "1 rows affected.\n",
            "1 rows affected.\n",
            "1 rows affected.\n",
            "1 rows affected.\n",
            "1 rows affected.\n",
            "1 rows affected.\n",
            "1 rows affected.\n",
            "1 rows affected.\n",
            "1 rows affected.\n",
            "1 rows affected.\n",
            "1 rows affected.\n",
            "1 rows affected.\n",
            "1 rows affected.\n"
          ]
        },
        {
          "output_type": "execute_result",
          "data": {
            "text/plain": [
              "[]"
            ]
          },
          "metadata": {},
          "execution_count": 5
        }
      ]
    },
    {
      "cell_type": "code",
      "source": [
        "%%sql\n",
        "--- Contact Details Data\n",
        "CREATE TABLE contact_details (stud_email VARCHAR(50) PRIMARY KEY,\n",
        "                              phone_number VARCHAR(15),\n",
        "                              next_of_kin_name VARCHAR(50),\n",
        "                              next_of_kin_relation VARCHAR(10),\n",
        "                              next_of_kin_contacts VARCHAR(13)\n",
        "                             );\n",
        "INSERT INTO contact_details (phone_number, next_of_kin_name,next_of_kin_relation,next_of_kin_contacts) VALUES\n",
        "                            (\"0712345678\",\"Papa Jones\",\"Father\",\"0782382383\"),\n",
        "                            (\"0723456781\",\"Vera Sidika\",\"Mother\",\"0723238983\"),\n",
        "                            (\"0734567812\",\"Zari Hassan\",\"Mother\",\"0779343126\"),\n",
        "                            (\"0745678123\",\"Diamond Platnumz\",\"Father\",\"0798246347\"),\n",
        "                            (\"0756781234\",\"Obi Abel\",\"Father\",\"0711234453\"),\n",
        "                            (\"0767812345\",\"Timothee Chamgei\",\"Father\",\"0765439233\"),\n",
        "                            (\"0778123456\",\"Tupac Biggie\",\"Father\",\"0702526243\"),\n",
        "                            (\"0781234567\",\"Blac Chyna\",\"Mother\",\"0747282839\"),\n",
        "                            (\"0722345678\",\"Beyonce Knowles\",\"Mother\",\"0753927482\"),\n",
        "                            (\"0733456781\",\"Kanye West\",\"Father\",\"0713245748\"),\n",
        "                            (\"0744567812\",\"Baba Yake\",\"Father\",\"0725737383\"),\n",
        "                            (\"0755678123\",\"Steve Carell\",\"Father\",\"0789346276\"),\n",
        "                            (\"0766456781\",\"Holly Sadden\",\"Mother\",\"0785739259\"),\n",
        "                            (\"0741367812\",\"Grace Kibunjia\",\"Mother\",\"0791344537\"),\n",
        "                            (\"0755421123\",\"Mum Momo\",\"Mother\",\"0765748244\");\n",
        "\n",
        "UPDATE contact_details\n",
        "SET stud_email = (SELECT school_details.stud_email\n",
        "                  FROM school_details, personal_details\n",
        "                  WHERE school_details.stud_ID = personal_details.stud_ID\n",
        "                  AND personal_details.phone_number = contact_details.phone_number\n",
        "                 );\n",
        "\n"
      ],
      "metadata": {
        "colab": {
          "base_uri": "https://localhost:8080/"
        },
        "id": "zg0pbwE6iFGV",
        "outputId": "54aba070-1aee-4783-accf-a9e8ee9a1d60"
      },
      "execution_count": null,
      "outputs": [
        {
          "output_type": "stream",
          "name": "stdout",
          "text": [
            " * sqlite:///stud_db.db\n",
            "Done.\n",
            "15 rows affected.\n",
            "15 rows affected.\n"
          ]
        },
        {
          "output_type": "execute_result",
          "data": {
            "text/plain": [
              "[]"
            ]
          },
          "metadata": {},
          "execution_count": 6
        }
      ]
    },
    {
      "cell_type": "code",
      "source": [
        "%%sql\n",
        "--- Financial Details Data\n",
        "CREATE TABLE IF NOT EXISTS financial_details (stud_ID VARCHAR(15) PRIMARY KEY,\n",
        "                                stud_name VARCHAR(50),\n",
        "                                sem_fee INTEGER(6),\n",
        "                                fee_paid INTEGER(6)\n",
        "                               );\n",
        "\n",
        "INSERT INTO financial_details (stud_ID, stud_name)\n",
        "            SELECT personal_details.stud_ID, personal_details.stud_name\n",
        "            FROM personal_details;\n",
        "\n",
        "UPDATE financial_details SET sem_fee = 25000, fee_paid=25000 WHERE stud_ID = \"stud101\";\n",
        "UPDATE financial_details SET sem_fee= 25000, fee_paid=19000 WHERE stud_ID = \"stud102\";\n",
        "UPDATE financial_details SET sem_fee= 21900, fee_paid=20000 WHERE stud_ID = \"stud103\";\n",
        "UPDATE financial_details SET sem_fee= 22000, fee_paid=22000 WHERE stud_ID = \"stud104\";\n",
        "UPDATE financial_details SET sem_fee= 25000, fee_paid=23400 WHERE stud_ID = \"stud105\";\n",
        "UPDATE financial_details SET sem_fee= 25000, fee_paid=27000 WHERE stud_ID = \"stud106\";\n",
        "UPDATE financial_details SET sem_fee= 24230, fee_paid=21200 WHERE stud_ID = \"stud107\";\n",
        "UPDATE financial_details SET sem_fee= 25000, fee_paid=23500 WHERE stud_ID = \"stud108\";\n",
        "UPDATE financial_details SET sem_fee= 25000, fee_paid=24500 WHERE stud_ID = \"stud109\";\n",
        "UPDATE financial_details SET sem_fee= 25000, fee_paid=25000 WHERE stud_ID = \"stud110\";\n",
        "UPDATE financial_details SET sem_fee= 26000, fee_paid=26000 WHERE stud_ID = \"stud111\";\n",
        "UPDATE financial_details SET sem_fee= 25000, fee_paid=20900 WHERE stud_ID = \"stud112\";\n",
        "UPDATE financial_details SET sem_fee= 25000, fee_paid=22300 WHERE stud_ID = \"stud113\";\n",
        "UPDATE financial_details SET sem_fee= 19000, fee_paid=19000 WHERE stud_ID = \"stud114\";\n",
        "UPDATE financial_details SET sem_fee= 20800, fee_paid=20800 WHERE stud_ID = \"stud115\";\n",
        "\n"
      ],
      "metadata": {
        "colab": {
          "base_uri": "https://localhost:8080/"
        },
        "id": "jMonzimrjDAJ",
        "outputId": "ea0f14cd-f2c4-4501-dd91-3a394384aa47"
      },
      "execution_count": null,
      "outputs": [
        {
          "output_type": "stream",
          "name": "stdout",
          "text": [
            " * sqlite:///stud_db.db\n",
            "Done.\n",
            "15 rows affected.\n",
            "1 rows affected.\n",
            "1 rows affected.\n",
            "1 rows affected.\n",
            "1 rows affected.\n",
            "1 rows affected.\n",
            "1 rows affected.\n",
            "1 rows affected.\n",
            "1 rows affected.\n",
            "1 rows affected.\n",
            "1 rows affected.\n",
            "1 rows affected.\n",
            "1 rows affected.\n",
            "1 rows affected.\n",
            "1 rows affected.\n",
            "1 rows affected.\n"
          ]
        },
        {
          "output_type": "execute_result",
          "data": {
            "text/plain": [
              "[]"
            ]
          },
          "metadata": {},
          "execution_count": 7
        }
      ]
    },
    {
      "cell_type": "markdown",
      "source": [
        "#new_stud_details\n",
        "Using JOIN get the student names, school id, email, phone number"
      ],
      "metadata": {
        "id": "UiQ5xrZ9QXfG"
      }
    },
    {
      "cell_type": "code",
      "source": [
        "%%sql\n",
        "--- New Student Details Data\n",
        "CREATE TABLE IF NOT EXISTS new_stud_details (stud_id varchar(15),\n",
        "                                             stud_name varchar(20),\n",
        "                                             email varchar(30),\n",
        "                                             phone_number INTEGER\n",
        "                                            );"
      ],
      "metadata": {
        "id": "Rh_wdFdtQafP",
        "colab": {
          "base_uri": "https://localhost:8080/"
        },
        "outputId": "58d3f67c-ccea-411b-f354-cda1471be43e"
      },
      "execution_count": null,
      "outputs": [
        {
          "output_type": "stream",
          "name": "stdout",
          "text": [
            " * sqlite:///stud_db.db\n",
            "Done.\n"
          ]
        },
        {
          "output_type": "execute_result",
          "data": {
            "text/plain": [
              "[]"
            ]
          },
          "metadata": {},
          "execution_count": 8
        }
      ]
    },
    {
      "cell_type": "code",
      "source": [
        "%%sql\n",
        "INSERT INTO new_stud_details (stud_id, stud_name, email, phone_number)\n",
        "            SELECT pd.stud_id, pd.stud_name, sd.stud_email, pd.phone_number\n",
        "            FROM personal_details pd\n",
        "            JOIN school_details sd\n",
        "            ON sd.stud_id =pd.stud_id"
      ],
      "metadata": {
        "colab": {
          "base_uri": "https://localhost:8080/"
        },
        "id": "5twL6O6qDGBs",
        "outputId": "62593ca5-8bbb-4713-e952-59869ca5caaf"
      },
      "execution_count": null,
      "outputs": [
        {
          "output_type": "stream",
          "name": "stdout",
          "text": [
            " * sqlite:///stud_db.db\n",
            "15 rows affected.\n"
          ]
        },
        {
          "output_type": "execute_result",
          "data": {
            "text/plain": [
              "[]"
            ]
          },
          "metadata": {},
          "execution_count": 9
        }
      ]
    },
    {
      "cell_type": "code",
      "source": [
        "%%sql\n",
        "SELECT *\n",
        "FROM new_stud_details;"
      ],
      "metadata": {
        "colab": {
          "base_uri": "https://localhost:8080/",
          "height": 396
        },
        "id": "rT2cWifUFFlU",
        "outputId": "61edb684-a6b3-43d4-9409-ca0e8d04fe23"
      },
      "execution_count": null,
      "outputs": [
        {
          "output_type": "stream",
          "name": "stdout",
          "text": [
            " * sqlite:///stud_db.db\n",
            "Done.\n"
          ]
        },
        {
          "output_type": "execute_result",
          "data": {
            "text/plain": [
              "[('stud101', 'Creed Bratton', 'CreedBratton@zinduaschool.ac', 712345678),\n",
              " ('stud102', 'Dwight Schrute', 'DwightSchrute@zinduaschool.ac', 723456781),\n",
              " ('stud103', 'Darryl Philbin', 'DarrylPhilbin@zinduaschool.ac', 734567812),\n",
              " ('stud104', 'Ryan Howard', 'RyanHoward@zinduaschool.ac', 745678123),\n",
              " ('stud105', 'Phyllis Vance', 'PhyllisVance@zinduaschool.ac', 756781234),\n",
              " ('stud106', 'Stanley Hudson', 'StanleyHudson@zinduaschool.ac', 767812345),\n",
              " ('stud107', 'Cece Halperk', 'CeceHalperk@zinduaschool.ac', 778123456),\n",
              " ('stud108', 'Davina Wallace', 'DavinaWallace@zinduaschool.ac', 781234567),\n",
              " ('stud109', 'Jim Halpert', 'JimHalpert@zinduaschool.ac', 722345678),\n",
              " ('stud110', 'Pam Beesly', 'PamBeesly@zinduaschool.ac', 733456781),\n",
              " ('stud111', 'Oscar Martinez', 'OscarMartinez@zinduaschool.ac', 744567812),\n",
              " ('stud112', 'Kelly Kapoor', 'KellyKapoor@zinduaschool.ac', 755678123),\n",
              " ('stud113', 'Jan Levinson', 'JanLevinson@zinduaschool.ac', 766456781),\n",
              " ('stud114', 'Angela Martins', 'AngelaMartins@zinduaschool.ac', 741367812),\n",
              " ('stud115', 'Michael Scott', 'MichaelScott@zinduaschool.ac', 744421123)]"
            ],
            "text/html": [
              "<table>\n",
              "    <thead>\n",
              "        <tr>\n",
              "            <th>stud_id</th>\n",
              "            <th>stud_name</th>\n",
              "            <th>email</th>\n",
              "            <th>phone_number</th>\n",
              "        </tr>\n",
              "    </thead>\n",
              "    <tbody>\n",
              "        <tr>\n",
              "            <td>stud101</td>\n",
              "            <td>Creed Bratton</td>\n",
              "            <td>CreedBratton@zinduaschool.ac</td>\n",
              "            <td>712345678</td>\n",
              "        </tr>\n",
              "        <tr>\n",
              "            <td>stud102</td>\n",
              "            <td>Dwight Schrute</td>\n",
              "            <td>DwightSchrute@zinduaschool.ac</td>\n",
              "            <td>723456781</td>\n",
              "        </tr>\n",
              "        <tr>\n",
              "            <td>stud103</td>\n",
              "            <td>Darryl Philbin</td>\n",
              "            <td>DarrylPhilbin@zinduaschool.ac</td>\n",
              "            <td>734567812</td>\n",
              "        </tr>\n",
              "        <tr>\n",
              "            <td>stud104</td>\n",
              "            <td>Ryan Howard</td>\n",
              "            <td>RyanHoward@zinduaschool.ac</td>\n",
              "            <td>745678123</td>\n",
              "        </tr>\n",
              "        <tr>\n",
              "            <td>stud105</td>\n",
              "            <td>Phyllis Vance</td>\n",
              "            <td>PhyllisVance@zinduaschool.ac</td>\n",
              "            <td>756781234</td>\n",
              "        </tr>\n",
              "        <tr>\n",
              "            <td>stud106</td>\n",
              "            <td>Stanley Hudson</td>\n",
              "            <td>StanleyHudson@zinduaschool.ac</td>\n",
              "            <td>767812345</td>\n",
              "        </tr>\n",
              "        <tr>\n",
              "            <td>stud107</td>\n",
              "            <td>Cece Halperk</td>\n",
              "            <td>CeceHalperk@zinduaschool.ac</td>\n",
              "            <td>778123456</td>\n",
              "        </tr>\n",
              "        <tr>\n",
              "            <td>stud108</td>\n",
              "            <td>Davina Wallace</td>\n",
              "            <td>DavinaWallace@zinduaschool.ac</td>\n",
              "            <td>781234567</td>\n",
              "        </tr>\n",
              "        <tr>\n",
              "            <td>stud109</td>\n",
              "            <td>Jim Halpert</td>\n",
              "            <td>JimHalpert@zinduaschool.ac</td>\n",
              "            <td>722345678</td>\n",
              "        </tr>\n",
              "        <tr>\n",
              "            <td>stud110</td>\n",
              "            <td>Pam Beesly</td>\n",
              "            <td>PamBeesly@zinduaschool.ac</td>\n",
              "            <td>733456781</td>\n",
              "        </tr>\n",
              "        <tr>\n",
              "            <td>stud111</td>\n",
              "            <td>Oscar Martinez</td>\n",
              "            <td>OscarMartinez@zinduaschool.ac</td>\n",
              "            <td>744567812</td>\n",
              "        </tr>\n",
              "        <tr>\n",
              "            <td>stud112</td>\n",
              "            <td>Kelly Kapoor</td>\n",
              "            <td>KellyKapoor@zinduaschool.ac</td>\n",
              "            <td>755678123</td>\n",
              "        </tr>\n",
              "        <tr>\n",
              "            <td>stud113</td>\n",
              "            <td>Jan Levinson</td>\n",
              "            <td>JanLevinson@zinduaschool.ac</td>\n",
              "            <td>766456781</td>\n",
              "        </tr>\n",
              "        <tr>\n",
              "            <td>stud114</td>\n",
              "            <td>Angela Martins</td>\n",
              "            <td>AngelaMartins@zinduaschool.ac</td>\n",
              "            <td>741367812</td>\n",
              "        </tr>\n",
              "        <tr>\n",
              "            <td>stud115</td>\n",
              "            <td>Michael Scott</td>\n",
              "            <td>MichaelScott@zinduaschool.ac</td>\n",
              "            <td>744421123</td>\n",
              "        </tr>\n",
              "    </tbody>\n",
              "</table>"
            ]
          },
          "metadata": {},
          "execution_count": 10
        }
      ]
    },
    {
      "cell_type": "markdown",
      "source": [
        "#(full_stud_details)\n",
        "Create a table with all the details from contacts to school and financial details"
      ],
      "metadata": {
        "id": "EBZP0CUfFOks"
      }
    },
    {
      "cell_type": "code",
      "source": [
        "%%sql\n",
        "--- Full Student Details Data\n",
        "CREATE TABLE full_stud_details (stud_ID VARCHAR(15),\n",
        "                                stud_name VARCHAR(100),\n",
        "                                stud_email VARCHAR(50),\n",
        "                                phone_number VARCHAR(15),\n",
        "                                current_home_county VARCHAR(20),\n",
        "                                secondary_school_county VARCHAR(20),\n",
        "                                residence VARCHAR(15),\n",
        "                                sem_fee INTEGER(6),\n",
        "                                fee_paid INTEGER(6),\n",
        "                                next_of_kin_name VARCHAR(50),\n",
        "                                next_of_kin_relation VARCHAR(10),\n",
        "                                next_of_kin_contacts VARCHAR(13)\n",
        "                               );\n",
        "\n",
        "INSERT INTO full_stud_details (stud_ID,\n",
        "                               stud_name,\n",
        "                               stud_email,\n",
        "                               phone_number,\n",
        "                               current_home_county,\n",
        "                               secondary_school_county,\n",
        "                               residence,\n",
        "                               sem_fee,\n",
        "                               fee_paid,\n",
        "                               next_of_kin_relation,\n",
        "                               next_of_kin_name,\n",
        "                               next_of_kin_contacts)\n",
        "\n",
        "\n",
        "SELECT s.stud_id ,f.stud_name,s.stud_email, c.phone_number, c.next_of_kin_name, c.next_of_kin_relation, c.next_of_kin_contacts,\n",
        "       s.current_home_county, s.secondary_school_county, s.residence,\n",
        "       f.sem_fee, f.fee_paid\n",
        "FROM contact_details c\n",
        "JOIN school_details s\n",
        "ON c.stud_email = s.stud_email\n",
        "JOIN financial_details f\n",
        "ON s.stud_id = f.stud_id;\n",
        "\n",
        "\n",
        "\n",
        "SELECT s.stud_id ,f.stud_name,s.stud_email, c.phone_number, c.next_of_kin_name, c.next_of_kin_relation, c.next_of_kin_contacts,\n",
        "       s.current_home_county, s.secondary_school_county, s.residence,\n",
        "       f.sem_fee, f.fee_paid\n",
        "FROM contact_details c\n",
        "JOIN school_details s\n",
        "ON c.stud_email = s.stud_email\n",
        "JOIN financial_details f\n",
        "ON s.stud_id = f.stud_id;"
      ],
      "metadata": {
        "colab": {
          "base_uri": "https://localhost:8080/",
          "height": 532
        },
        "id": "qInI03u3FWUB",
        "outputId": "371e7364-cf18-4224-a3cc-43c06f6407ef"
      },
      "execution_count": null,
      "outputs": [
        {
          "output_type": "stream",
          "name": "stdout",
          "text": [
            " * sqlite:///stud_db.db\n",
            "Done.\n",
            "14 rows affected.\n",
            "Done.\n"
          ]
        },
        {
          "output_type": "execute_result",
          "data": {
            "text/plain": [
              "[('stud101', 'Creed Bratton', 'CreedBratton@zinduaschool.ac', '0712345678', 'Papa Jones', 'Father', '0782382383', 'Nakuru', 'Nairobi', 'In school', 25000, 25000),\n",
              " ('stud102', 'Dwight Schrute', 'DwightSchrute@zinduaschool.ac', '0723456781', 'Vera Sidika', 'Mother', '0723238983', 'Nairobi', 'Nakuru', 'In school', 25000, 19000),\n",
              " ('stud103', 'Darryl Philbin', 'DarrylPhilbin@zinduaschool.ac', '0734567812', 'Zari Hassan', 'Mother', '0779343126', 'Samburu', 'Nairobi', 'Out of school', 21900, 20000),\n",
              " ('stud104', 'Ryan Howard', 'RyanHoward@zinduaschool.ac', '0745678123', 'Diamond Platnumz', 'Father', '0798246347', 'Kericho', 'Nairobi', 'In school', 22000, 22000),\n",
              " ('stud105', 'Phyllis Vance', 'PhyllisVance@zinduaschool.ac', '0756781234', 'Obi Abel', 'Father', '0711234453', 'Nyamira', 'Nakuru', 'In school', 25000, 23400),\n",
              " ('stud106', 'Stanley Hudson', 'StanleyHudson@zinduaschool.ac', '0767812345', 'Timothee Chamgei', 'Father', '0765439233', 'Kisumu', 'Nairobi', 'Out of school', 25000, 27000),\n",
              " ('stud107', 'Cece Halperk', 'CeceHalperk@zinduaschool.ac', '0778123456', 'Tupac Biggie', 'Father', '0702526243', 'Nakuru', 'Nairobi', 'Out of school', 24230, 21200),\n",
              " ('stud108', 'Davina Wallace', 'DavinaWallace@zinduaschool.ac', '0781234567', 'Blac Chyna', 'Mother', '0747282839', 'Kisumu', 'Mombasa', 'Out of school', 25000, 23500),\n",
              " ('stud109', 'Jim Halpert', 'JimHalpert@zinduaschool.ac', '0722345678', 'Beyonce Knowles', 'Mother', '0753927482', 'Kericho', 'Mombasa', 'In school', 25000, 24500),\n",
              " ('stud110', 'Pam Beesly', 'PamBeesly@zinduaschool.ac', '0733456781', 'Kanye West', 'Father', '0713245748', 'Nakuru', 'Mombasa', 'In school', 25000, 25000),\n",
              " ('stud111', 'Oscar Martinez', 'OscarMartinez@zinduaschool.ac', '0744567812', 'Baba Yake', 'Father', '0725737383', 'Kiambu', 'Turkana', 'In school', 26000, 26000),\n",
              " ('stud112', 'Kelly Kapoor', 'KellyKapoor@zinduaschool.ac', '0755678123', 'Steve Carell', 'Father', '0789346276', 'Nairobi', 'Nakuru', 'In school', 25000, 20900),\n",
              " ('stud113', 'Jan Levinson', 'JanLevinson@zinduaschool.ac', '0766456781', 'Holly Sadden', 'Mother', '0785739259', 'Samburu', 'Taita Taveta', 'In school', 25000, 22300),\n",
              " ('stud114', 'Angela Martins', 'AngelaMartins@zinduaschool.ac', '0741367812', 'Grace Kibunjia', 'Mother', '0791344537', 'Kericho', 'Nairobi', 'Out of school', 19000, 19000)]"
            ],
            "text/html": [
              "<table>\n",
              "    <thead>\n",
              "        <tr>\n",
              "            <th>stud_ID</th>\n",
              "            <th>stud_name</th>\n",
              "            <th>stud_email</th>\n",
              "            <th>phone_number</th>\n",
              "            <th>next_of_kin_name</th>\n",
              "            <th>next_of_kin_relation</th>\n",
              "            <th>next_of_kin_contacts</th>\n",
              "            <th>current_home_county</th>\n",
              "            <th>secondary_school_county</th>\n",
              "            <th>residence</th>\n",
              "            <th>sem_fee</th>\n",
              "            <th>fee_paid</th>\n",
              "        </tr>\n",
              "    </thead>\n",
              "    <tbody>\n",
              "        <tr>\n",
              "            <td>stud101</td>\n",
              "            <td>Creed Bratton</td>\n",
              "            <td>CreedBratton@zinduaschool.ac</td>\n",
              "            <td>0712345678</td>\n",
              "            <td>Papa Jones</td>\n",
              "            <td>Father</td>\n",
              "            <td>0782382383</td>\n",
              "            <td>Nakuru</td>\n",
              "            <td>Nairobi</td>\n",
              "            <td>In school</td>\n",
              "            <td>25000</td>\n",
              "            <td>25000</td>\n",
              "        </tr>\n",
              "        <tr>\n",
              "            <td>stud102</td>\n",
              "            <td>Dwight Schrute</td>\n",
              "            <td>DwightSchrute@zinduaschool.ac</td>\n",
              "            <td>0723456781</td>\n",
              "            <td>Vera Sidika</td>\n",
              "            <td>Mother</td>\n",
              "            <td>0723238983</td>\n",
              "            <td>Nairobi</td>\n",
              "            <td>Nakuru</td>\n",
              "            <td>In school</td>\n",
              "            <td>25000</td>\n",
              "            <td>19000</td>\n",
              "        </tr>\n",
              "        <tr>\n",
              "            <td>stud103</td>\n",
              "            <td>Darryl Philbin</td>\n",
              "            <td>DarrylPhilbin@zinduaschool.ac</td>\n",
              "            <td>0734567812</td>\n",
              "            <td>Zari Hassan</td>\n",
              "            <td>Mother</td>\n",
              "            <td>0779343126</td>\n",
              "            <td>Samburu</td>\n",
              "            <td>Nairobi</td>\n",
              "            <td>Out of school</td>\n",
              "            <td>21900</td>\n",
              "            <td>20000</td>\n",
              "        </tr>\n",
              "        <tr>\n",
              "            <td>stud104</td>\n",
              "            <td>Ryan Howard</td>\n",
              "            <td>RyanHoward@zinduaschool.ac</td>\n",
              "            <td>0745678123</td>\n",
              "            <td>Diamond Platnumz</td>\n",
              "            <td>Father</td>\n",
              "            <td>0798246347</td>\n",
              "            <td>Kericho</td>\n",
              "            <td>Nairobi</td>\n",
              "            <td>In school</td>\n",
              "            <td>22000</td>\n",
              "            <td>22000</td>\n",
              "        </tr>\n",
              "        <tr>\n",
              "            <td>stud105</td>\n",
              "            <td>Phyllis Vance</td>\n",
              "            <td>PhyllisVance@zinduaschool.ac</td>\n",
              "            <td>0756781234</td>\n",
              "            <td>Obi Abel</td>\n",
              "            <td>Father</td>\n",
              "            <td>0711234453</td>\n",
              "            <td>Nyamira</td>\n",
              "            <td>Nakuru</td>\n",
              "            <td>In school</td>\n",
              "            <td>25000</td>\n",
              "            <td>23400</td>\n",
              "        </tr>\n",
              "        <tr>\n",
              "            <td>stud106</td>\n",
              "            <td>Stanley Hudson</td>\n",
              "            <td>StanleyHudson@zinduaschool.ac</td>\n",
              "            <td>0767812345</td>\n",
              "            <td>Timothee Chamgei</td>\n",
              "            <td>Father</td>\n",
              "            <td>0765439233</td>\n",
              "            <td>Kisumu</td>\n",
              "            <td>Nairobi</td>\n",
              "            <td>Out of school</td>\n",
              "            <td>25000</td>\n",
              "            <td>27000</td>\n",
              "        </tr>\n",
              "        <tr>\n",
              "            <td>stud107</td>\n",
              "            <td>Cece Halperk</td>\n",
              "            <td>CeceHalperk@zinduaschool.ac</td>\n",
              "            <td>0778123456</td>\n",
              "            <td>Tupac Biggie</td>\n",
              "            <td>Father</td>\n",
              "            <td>0702526243</td>\n",
              "            <td>Nakuru</td>\n",
              "            <td>Nairobi</td>\n",
              "            <td>Out of school</td>\n",
              "            <td>24230</td>\n",
              "            <td>21200</td>\n",
              "        </tr>\n",
              "        <tr>\n",
              "            <td>stud108</td>\n",
              "            <td>Davina Wallace</td>\n",
              "            <td>DavinaWallace@zinduaschool.ac</td>\n",
              "            <td>0781234567</td>\n",
              "            <td>Blac Chyna</td>\n",
              "            <td>Mother</td>\n",
              "            <td>0747282839</td>\n",
              "            <td>Kisumu</td>\n",
              "            <td>Mombasa</td>\n",
              "            <td>Out of school</td>\n",
              "            <td>25000</td>\n",
              "            <td>23500</td>\n",
              "        </tr>\n",
              "        <tr>\n",
              "            <td>stud109</td>\n",
              "            <td>Jim Halpert</td>\n",
              "            <td>JimHalpert@zinduaschool.ac</td>\n",
              "            <td>0722345678</td>\n",
              "            <td>Beyonce Knowles</td>\n",
              "            <td>Mother</td>\n",
              "            <td>0753927482</td>\n",
              "            <td>Kericho</td>\n",
              "            <td>Mombasa</td>\n",
              "            <td>In school</td>\n",
              "            <td>25000</td>\n",
              "            <td>24500</td>\n",
              "        </tr>\n",
              "        <tr>\n",
              "            <td>stud110</td>\n",
              "            <td>Pam Beesly</td>\n",
              "            <td>PamBeesly@zinduaschool.ac</td>\n",
              "            <td>0733456781</td>\n",
              "            <td>Kanye West</td>\n",
              "            <td>Father</td>\n",
              "            <td>0713245748</td>\n",
              "            <td>Nakuru</td>\n",
              "            <td>Mombasa</td>\n",
              "            <td>In school</td>\n",
              "            <td>25000</td>\n",
              "            <td>25000</td>\n",
              "        </tr>\n",
              "        <tr>\n",
              "            <td>stud111</td>\n",
              "            <td>Oscar Martinez</td>\n",
              "            <td>OscarMartinez@zinduaschool.ac</td>\n",
              "            <td>0744567812</td>\n",
              "            <td>Baba Yake</td>\n",
              "            <td>Father</td>\n",
              "            <td>0725737383</td>\n",
              "            <td>Kiambu</td>\n",
              "            <td>Turkana</td>\n",
              "            <td>In school</td>\n",
              "            <td>26000</td>\n",
              "            <td>26000</td>\n",
              "        </tr>\n",
              "        <tr>\n",
              "            <td>stud112</td>\n",
              "            <td>Kelly Kapoor</td>\n",
              "            <td>KellyKapoor@zinduaschool.ac</td>\n",
              "            <td>0755678123</td>\n",
              "            <td>Steve Carell</td>\n",
              "            <td>Father</td>\n",
              "            <td>0789346276</td>\n",
              "            <td>Nairobi</td>\n",
              "            <td>Nakuru</td>\n",
              "            <td>In school</td>\n",
              "            <td>25000</td>\n",
              "            <td>20900</td>\n",
              "        </tr>\n",
              "        <tr>\n",
              "            <td>stud113</td>\n",
              "            <td>Jan Levinson</td>\n",
              "            <td>JanLevinson@zinduaschool.ac</td>\n",
              "            <td>0766456781</td>\n",
              "            <td>Holly Sadden</td>\n",
              "            <td>Mother</td>\n",
              "            <td>0785739259</td>\n",
              "            <td>Samburu</td>\n",
              "            <td>Taita Taveta</td>\n",
              "            <td>In school</td>\n",
              "            <td>25000</td>\n",
              "            <td>22300</td>\n",
              "        </tr>\n",
              "        <tr>\n",
              "            <td>stud114</td>\n",
              "            <td>Angela Martins</td>\n",
              "            <td>AngelaMartins@zinduaschool.ac</td>\n",
              "            <td>0741367812</td>\n",
              "            <td>Grace Kibunjia</td>\n",
              "            <td>Mother</td>\n",
              "            <td>0791344537</td>\n",
              "            <td>Kericho</td>\n",
              "            <td>Nairobi</td>\n",
              "            <td>Out of school</td>\n",
              "            <td>19000</td>\n",
              "            <td>19000</td>\n",
              "        </tr>\n",
              "    </tbody>\n",
              "</table>"
            ]
          },
          "metadata": {},
          "execution_count": 11
        }
      ]
    },
    {
      "cell_type": "markdown",
      "source": [
        "#Add student names on any empty row of stud_name in financial_details"
      ],
      "metadata": {
        "id": "NDUCb5ysHIj8"
      }
    },
    {
      "cell_type": "code",
      "source": [
        "%%sql\n",
        "INSERT INTO financial_details (stud_name) VALUES ('Coco Jones');\n",
        "\n"
      ],
      "metadata": {
        "colab": {
          "base_uri": "https://localhost:8080/"
        },
        "id": "QhR8eihBHKKC",
        "outputId": "860e9a80-06a2-49a5-fb1b-08d00925e7cf"
      },
      "execution_count": null,
      "outputs": [
        {
          "output_type": "stream",
          "name": "stdout",
          "text": [
            " * sqlite:///stud_db.db\n",
            "1 rows affected.\n"
          ]
        },
        {
          "output_type": "execute_result",
          "data": {
            "text/plain": [
              "[]"
            ]
          },
          "metadata": {},
          "execution_count": 12
        }
      ]
    },
    {
      "cell_type": "code",
      "source": [
        "%%sql\n",
        "INSERT INTO financial_details (stud_name) VALUES ('Nyashinski Kamau');"
      ],
      "metadata": {
        "colab": {
          "base_uri": "https://localhost:8080/"
        },
        "id": "ioO50eLq5Bj1",
        "outputId": "6d73ba91-07ee-4410-a9d4-500f518dcbf7"
      },
      "execution_count": null,
      "outputs": [
        {
          "output_type": "stream",
          "name": "stdout",
          "text": [
            " * sqlite:///stud_db.db\n",
            "1 rows affected.\n"
          ]
        },
        {
          "output_type": "execute_result",
          "data": {
            "text/plain": [
              "[]"
            ]
          },
          "metadata": {},
          "execution_count": 13
        }
      ]
    },
    {
      "cell_type": "markdown",
      "source": [
        "#(financial_details_view)\n",
        "On the financial_details table add a column, fee_cleared, that has True if student has cleared current fee and False if not"
      ],
      "metadata": {
        "id": "5AkCqigw5Jfz"
      }
    },
    {
      "cell_type": "code",
      "source": [
        "%%sql\n",
        "ALTER TABLE financial_details\n",
        "ADD fee_cleared"
      ],
      "metadata": {
        "colab": {
          "base_uri": "https://localhost:8080/"
        },
        "id": "jFmci5Ts5eBx",
        "outputId": "9ea1fd20-8789-48bb-d203-c5f5b67e62f1"
      },
      "execution_count": null,
      "outputs": [
        {
          "output_type": "stream",
          "name": "stdout",
          "text": [
            " * sqlite:///stud_db.db\n",
            "Done.\n"
          ]
        },
        {
          "output_type": "execute_result",
          "data": {
            "text/plain": [
              "[]"
            ]
          },
          "metadata": {},
          "execution_count": 14
        }
      ]
    },
    {
      "cell_type": "code",
      "source": [
        "%%sql\n",
        "UPDATE financial_details\n",
        "SET fee_cleared='True'\n",
        "WHERE sem_fee=fee_paid;"
      ],
      "metadata": {
        "colab": {
          "base_uri": "https://localhost:8080/"
        },
        "id": "rtg1m8xy50UA",
        "outputId": "4fceaac5-9269-4001-eeb1-e66a3e92dad5"
      },
      "execution_count": null,
      "outputs": [
        {
          "output_type": "stream",
          "name": "stdout",
          "text": [
            " * sqlite:///stud_db.db\n",
            "6 rows affected.\n"
          ]
        },
        {
          "output_type": "execute_result",
          "data": {
            "text/plain": [
              "[]"
            ]
          },
          "metadata": {},
          "execution_count": 15
        }
      ]
    },
    {
      "cell_type": "code",
      "source": [
        "%%sql\n",
        "UPDATE financial_details\n",
        "SET fee_cleared='False'\n",
        "WHERE fee_paid<sem_fee;"
      ],
      "metadata": {
        "colab": {
          "base_uri": "https://localhost:8080/"
        },
        "id": "w0aEJ6KO5_B0",
        "outputId": "cfd38f59-b89e-4de5-c8a0-9fb45e34761b"
      },
      "execution_count": null,
      "outputs": [
        {
          "output_type": "stream",
          "name": "stdout",
          "text": [
            " * sqlite:///stud_db.db\n",
            "8 rows affected.\n"
          ]
        },
        {
          "output_type": "execute_result",
          "data": {
            "text/plain": [
              "[]"
            ]
          },
          "metadata": {},
          "execution_count": 16
        }
      ]
    },
    {
      "cell_type": "code",
      "source": [
        "%%sql\n",
        "SELECT*\n",
        "FROM financial_details;"
      ],
      "metadata": {
        "colab": {
          "base_uri": "https://localhost:8080/",
          "height": 439
        },
        "id": "FZuzhvgY5kou",
        "outputId": "7b9a2787-04ca-4251-9ae6-57455f3ba257"
      },
      "execution_count": null,
      "outputs": [
        {
          "output_type": "stream",
          "name": "stdout",
          "text": [
            " * sqlite:///stud_db.db\n",
            "Done.\n"
          ]
        },
        {
          "output_type": "execute_result",
          "data": {
            "text/plain": [
              "[('stud101', 'Creed Bratton', 25000, 25000, 'True'),\n",
              " ('stud102', 'Dwight Schrute', 25000, 19000, 'False'),\n",
              " ('stud103', 'Darryl Philbin', 21900, 20000, 'False'),\n",
              " ('stud104', 'Ryan Howard', 22000, 22000, 'True'),\n",
              " ('stud105', 'Phyllis Vance', 25000, 23400, 'False'),\n",
              " ('stud106', 'Stanley Hudson', 25000, 27000, None),\n",
              " ('stud107', 'Cece Halperk', 24230, 21200, 'False'),\n",
              " ('stud108', 'Davina Wallace', 25000, 23500, 'False'),\n",
              " ('stud109', 'Jim Halpert', 25000, 24500, 'False'),\n",
              " ('stud110', 'Pam Beesly', 25000, 25000, 'True'),\n",
              " ('stud111', 'Oscar Martinez', 26000, 26000, 'True'),\n",
              " ('stud112', 'Kelly Kapoor', 25000, 20900, 'False'),\n",
              " ('stud113', 'Jan Levinson', 25000, 22300, 'False'),\n",
              " ('stud114', 'Angela Martins', 19000, 19000, 'True'),\n",
              " ('stud115', 'Michael Scott', 20800, 20800, 'True'),\n",
              " (None, 'Coco Jones', None, None, None),\n",
              " (None, 'Nyashinski Kamau', None, None, None)]"
            ],
            "text/html": [
              "<table>\n",
              "    <thead>\n",
              "        <tr>\n",
              "            <th>stud_ID</th>\n",
              "            <th>stud_name</th>\n",
              "            <th>sem_fee</th>\n",
              "            <th>fee_paid</th>\n",
              "            <th>fee_cleared</th>\n",
              "        </tr>\n",
              "    </thead>\n",
              "    <tbody>\n",
              "        <tr>\n",
              "            <td>stud101</td>\n",
              "            <td>Creed Bratton</td>\n",
              "            <td>25000</td>\n",
              "            <td>25000</td>\n",
              "            <td>True</td>\n",
              "        </tr>\n",
              "        <tr>\n",
              "            <td>stud102</td>\n",
              "            <td>Dwight Schrute</td>\n",
              "            <td>25000</td>\n",
              "            <td>19000</td>\n",
              "            <td>False</td>\n",
              "        </tr>\n",
              "        <tr>\n",
              "            <td>stud103</td>\n",
              "            <td>Darryl Philbin</td>\n",
              "            <td>21900</td>\n",
              "            <td>20000</td>\n",
              "            <td>False</td>\n",
              "        </tr>\n",
              "        <tr>\n",
              "            <td>stud104</td>\n",
              "            <td>Ryan Howard</td>\n",
              "            <td>22000</td>\n",
              "            <td>22000</td>\n",
              "            <td>True</td>\n",
              "        </tr>\n",
              "        <tr>\n",
              "            <td>stud105</td>\n",
              "            <td>Phyllis Vance</td>\n",
              "            <td>25000</td>\n",
              "            <td>23400</td>\n",
              "            <td>False</td>\n",
              "        </tr>\n",
              "        <tr>\n",
              "            <td>stud106</td>\n",
              "            <td>Stanley Hudson</td>\n",
              "            <td>25000</td>\n",
              "            <td>27000</td>\n",
              "            <td>None</td>\n",
              "        </tr>\n",
              "        <tr>\n",
              "            <td>stud107</td>\n",
              "            <td>Cece Halperk</td>\n",
              "            <td>24230</td>\n",
              "            <td>21200</td>\n",
              "            <td>False</td>\n",
              "        </tr>\n",
              "        <tr>\n",
              "            <td>stud108</td>\n",
              "            <td>Davina Wallace</td>\n",
              "            <td>25000</td>\n",
              "            <td>23500</td>\n",
              "            <td>False</td>\n",
              "        </tr>\n",
              "        <tr>\n",
              "            <td>stud109</td>\n",
              "            <td>Jim Halpert</td>\n",
              "            <td>25000</td>\n",
              "            <td>24500</td>\n",
              "            <td>False</td>\n",
              "        </tr>\n",
              "        <tr>\n",
              "            <td>stud110</td>\n",
              "            <td>Pam Beesly</td>\n",
              "            <td>25000</td>\n",
              "            <td>25000</td>\n",
              "            <td>True</td>\n",
              "        </tr>\n",
              "        <tr>\n",
              "            <td>stud111</td>\n",
              "            <td>Oscar Martinez</td>\n",
              "            <td>26000</td>\n",
              "            <td>26000</td>\n",
              "            <td>True</td>\n",
              "        </tr>\n",
              "        <tr>\n",
              "            <td>stud112</td>\n",
              "            <td>Kelly Kapoor</td>\n",
              "            <td>25000</td>\n",
              "            <td>20900</td>\n",
              "            <td>False</td>\n",
              "        </tr>\n",
              "        <tr>\n",
              "            <td>stud113</td>\n",
              "            <td>Jan Levinson</td>\n",
              "            <td>25000</td>\n",
              "            <td>22300</td>\n",
              "            <td>False</td>\n",
              "        </tr>\n",
              "        <tr>\n",
              "            <td>stud114</td>\n",
              "            <td>Angela Martins</td>\n",
              "            <td>19000</td>\n",
              "            <td>19000</td>\n",
              "            <td>True</td>\n",
              "        </tr>\n",
              "        <tr>\n",
              "            <td>stud115</td>\n",
              "            <td>Michael Scott</td>\n",
              "            <td>20800</td>\n",
              "            <td>20800</td>\n",
              "            <td>True</td>\n",
              "        </tr>\n",
              "        <tr>\n",
              "            <td>None</td>\n",
              "            <td>Coco Jones</td>\n",
              "            <td>None</td>\n",
              "            <td>None</td>\n",
              "            <td>None</td>\n",
              "        </tr>\n",
              "        <tr>\n",
              "            <td>None</td>\n",
              "            <td>Nyashinski Kamau</td>\n",
              "            <td>None</td>\n",
              "            <td>None</td>\n",
              "            <td>None</td>\n",
              "        </tr>\n",
              "    </tbody>\n",
              "</table>"
            ]
          },
          "metadata": {},
          "execution_count": 17
        }
      ]
    },
    {
      "cell_type": "markdown",
      "source": [
        "#(fee_cleared)\n",
        "Get the national ID and name of all students who have cleared their fees"
      ],
      "metadata": {
        "id": "ymFOZ1nG6ZIO"
      }
    },
    {
      "cell_type": "code",
      "source": [
        "%%sql\n",
        "SELECT DISTINCT pd.national_id,fd.stud_name,fd.fee_cleared\n",
        "FROM personal_details pd, financial_details fd\n",
        "JOIN personal_details\n",
        "ON pd.stud_name=fd.stud_name\n",
        "WHERE fee_cleared='True';"
      ],
      "metadata": {
        "colab": {
          "base_uri": "https://localhost:8080/",
          "height": 204
        },
        "id": "Mx8Gtx_j7g1f",
        "outputId": "1cc9977a-2a9d-4c7f-b3a9-10ebc61e3238"
      },
      "execution_count": null,
      "outputs": [
        {
          "output_type": "stream",
          "name": "stdout",
          "text": [
            " * sqlite:///stud_db.db\n",
            "Done.\n"
          ]
        },
        {
          "output_type": "execute_result",
          "data": {
            "text/plain": [
              "[(321746, 'Angela Martins', 'True'),\n",
              " (265834, 'Creed Bratton', 'True'),\n",
              " (390234, 'Michael Scott', 'True'),\n",
              " (339746, 'Oscar Martinez', 'True'),\n",
              " (339152, 'Pam Beesly', 'True'),\n",
              " (266302, 'Ryan Howard', 'True')]"
            ],
            "text/html": [
              "<table>\n",
              "    <thead>\n",
              "        <tr>\n",
              "            <th>national_ID</th>\n",
              "            <th>stud_name</th>\n",
              "            <th>fee_cleared</th>\n",
              "        </tr>\n",
              "    </thead>\n",
              "    <tbody>\n",
              "        <tr>\n",
              "            <td>321746</td>\n",
              "            <td>Angela Martins</td>\n",
              "            <td>True</td>\n",
              "        </tr>\n",
              "        <tr>\n",
              "            <td>265834</td>\n",
              "            <td>Creed Bratton</td>\n",
              "            <td>True</td>\n",
              "        </tr>\n",
              "        <tr>\n",
              "            <td>390234</td>\n",
              "            <td>Michael Scott</td>\n",
              "            <td>True</td>\n",
              "        </tr>\n",
              "        <tr>\n",
              "            <td>339746</td>\n",
              "            <td>Oscar Martinez</td>\n",
              "            <td>True</td>\n",
              "        </tr>\n",
              "        <tr>\n",
              "            <td>339152</td>\n",
              "            <td>Pam Beesly</td>\n",
              "            <td>True</td>\n",
              "        </tr>\n",
              "        <tr>\n",
              "            <td>266302</td>\n",
              "            <td>Ryan Howard</td>\n",
              "            <td>True</td>\n",
              "        </tr>\n",
              "    </tbody>\n",
              "</table>"
            ]
          },
          "metadata": {},
          "execution_count": 18
        }
      ]
    },
    {
      "cell_type": "markdown",
      "source": [
        "#(total_fee_balance)\n",
        "Get the total sum of fees paid so far and the total current deficit\n"
      ],
      "metadata": {
        "id": "N4cm1Qq673du"
      }
    },
    {
      "cell_type": "code",
      "source": [
        "%%sql\n",
        "SELECT sum(sem_fee)-sum(fee_paid)as total_fee_balance\n",
        "FROM financial_details;"
      ],
      "metadata": {
        "colab": {
          "base_uri": "https://localhost:8080/",
          "height": 97
        },
        "id": "_p9ygDga8K4H",
        "outputId": "9760c0f5-6ce8-4972-faf4-6bbcdd7fce21"
      },
      "execution_count": null,
      "outputs": [
        {
          "output_type": "stream",
          "name": "stdout",
          "text": [
            " * sqlite:///stud_db.db\n",
            "Done.\n"
          ]
        },
        {
          "output_type": "execute_result",
          "data": {
            "text/plain": [
              "[(19330,)]"
            ],
            "text/html": [
              "<table>\n",
              "    <thead>\n",
              "        <tr>\n",
              "            <th>total_fee_balance</th>\n",
              "        </tr>\n",
              "    </thead>\n",
              "    <tbody>\n",
              "        <tr>\n",
              "            <td>19330</td>\n",
              "        </tr>\n",
              "    </tbody>\n",
              "</table>"
            ]
          },
          "metadata": {},
          "execution_count": 19
        }
      ]
    },
    {
      "cell_type": "markdown",
      "source": [
        "#(home_county_count)\n",
        "Get the count of students who share a current home county i.e., Say Nairobi, get the number of students who’s current_home_county is Nairobi, and so on for all available counties\n"
      ],
      "metadata": {
        "id": "K-wG3TWe8aeg"
      }
    },
    {
      "cell_type": "code",
      "source": [
        "%%sql\n",
        "SELECT count(stud_id) as home_county_county,\n",
        "       current_home_county\n",
        "FROM school_details\n",
        "GROUP BY current_home_county;"
      ],
      "metadata": {
        "colab": {
          "base_uri": "https://localhost:8080/",
          "height": 225
        },
        "id": "rzVOCz0_8gSE",
        "outputId": "979028da-ac4c-453d-be65-45fb10eadf79"
      },
      "execution_count": null,
      "outputs": [
        {
          "output_type": "stream",
          "name": "stdout",
          "text": [
            " * sqlite:///stud_db.db\n",
            "Done.\n"
          ]
        },
        {
          "output_type": "execute_result",
          "data": {
            "text/plain": [
              "[(3, 'Kericho'),\n",
              " (2, 'Kiambu'),\n",
              " (2, 'Kisumu'),\n",
              " (2, 'Nairobi'),\n",
              " (3, 'Nakuru'),\n",
              " (1, 'Nyamira'),\n",
              " (2, 'Samburu')]"
            ],
            "text/html": [
              "<table>\n",
              "    <thead>\n",
              "        <tr>\n",
              "            <th>home_county_county</th>\n",
              "            <th>current_home_county</th>\n",
              "        </tr>\n",
              "    </thead>\n",
              "    <tbody>\n",
              "        <tr>\n",
              "            <td>3</td>\n",
              "            <td>Kericho</td>\n",
              "        </tr>\n",
              "        <tr>\n",
              "            <td>2</td>\n",
              "            <td>Kiambu</td>\n",
              "        </tr>\n",
              "        <tr>\n",
              "            <td>2</td>\n",
              "            <td>Kisumu</td>\n",
              "        </tr>\n",
              "        <tr>\n",
              "            <td>2</td>\n",
              "            <td>Nairobi</td>\n",
              "        </tr>\n",
              "        <tr>\n",
              "            <td>3</td>\n",
              "            <td>Nakuru</td>\n",
              "        </tr>\n",
              "        <tr>\n",
              "            <td>1</td>\n",
              "            <td>Nyamira</td>\n",
              "        </tr>\n",
              "        <tr>\n",
              "            <td>2</td>\n",
              "            <td>Samburu</td>\n",
              "        </tr>\n",
              "    </tbody>\n",
              "</table>"
            ]
          },
          "metadata": {},
          "execution_count": 20
        }
      ]
    },
    {
      "cell_type": "markdown",
      "source": [
        "#(secondary_school_count)\n",
        "Get the count of Male and/or Female students from each secondary_school_county (secondary_school_count). The table should contain a column for male student count and female student count for each county."
      ],
      "metadata": {
        "id": "Ueew7VK281It"
      }
    },
    {
      "cell_type": "code",
      "source": [
        "%%sql\n",
        "SELECT DISTINCT pd.gender, sd.secondary_school_county,count(pd.gender) as secondary_school_count\n",
        "FROM school_details sd,\n",
        "     personal_details pd\n",
        "LEFT JOIN personal_details\n",
        "ON pd.stud_id=sd.stud_id\n",
        "GROUP BY pd.gender,sd.secondary_school_county;\n"
      ],
      "metadata": {
        "colab": {
          "base_uri": "https://localhost:8080/",
          "height": 289
        },
        "id": "U_Z48I0z88Zi",
        "outputId": "a1a7d927-2240-46ce-b6e8-a7f17a1b5ed6"
      },
      "execution_count": null,
      "outputs": [
        {
          "output_type": "stream",
          "name": "stdout",
          "text": [
            " * sqlite:///stud_db.db\n",
            "Done.\n"
          ]
        },
        {
          "output_type": "execute_result",
          "data": {
            "text/plain": [
              "[('Female', 'Mombasa', 70),\n",
              " ('Female', 'Nairobi', 56),\n",
              " ('Female', 'Nakuru', 49),\n",
              " ('Female', 'Taita Taveta', 21),\n",
              " ('Female', 'Turkana', 7),\n",
              " ('Male', 'Mombasa', 46),\n",
              " ('Male', 'Nairobi', 118),\n",
              " ('Male', 'Nakuru', 38),\n",
              " ('Male', 'Taita Taveta', 8),\n",
              " ('Male', 'Turkana', 22)]"
            ],
            "text/html": [
              "<table>\n",
              "    <thead>\n",
              "        <tr>\n",
              "            <th>gender</th>\n",
              "            <th>secondary_school_county</th>\n",
              "            <th>secondary_school_count</th>\n",
              "        </tr>\n",
              "    </thead>\n",
              "    <tbody>\n",
              "        <tr>\n",
              "            <td>Female</td>\n",
              "            <td>Mombasa</td>\n",
              "            <td>70</td>\n",
              "        </tr>\n",
              "        <tr>\n",
              "            <td>Female</td>\n",
              "            <td>Nairobi</td>\n",
              "            <td>56</td>\n",
              "        </tr>\n",
              "        <tr>\n",
              "            <td>Female</td>\n",
              "            <td>Nakuru</td>\n",
              "            <td>49</td>\n",
              "        </tr>\n",
              "        <tr>\n",
              "            <td>Female</td>\n",
              "            <td>Taita Taveta</td>\n",
              "            <td>21</td>\n",
              "        </tr>\n",
              "        <tr>\n",
              "            <td>Female</td>\n",
              "            <td>Turkana</td>\n",
              "            <td>7</td>\n",
              "        </tr>\n",
              "        <tr>\n",
              "            <td>Male</td>\n",
              "            <td>Mombasa</td>\n",
              "            <td>46</td>\n",
              "        </tr>\n",
              "        <tr>\n",
              "            <td>Male</td>\n",
              "            <td>Nairobi</td>\n",
              "            <td>118</td>\n",
              "        </tr>\n",
              "        <tr>\n",
              "            <td>Male</td>\n",
              "            <td>Nakuru</td>\n",
              "            <td>38</td>\n",
              "        </tr>\n",
              "        <tr>\n",
              "            <td>Male</td>\n",
              "            <td>Taita Taveta</td>\n",
              "            <td>8</td>\n",
              "        </tr>\n",
              "        <tr>\n",
              "            <td>Male</td>\n",
              "            <td>Turkana</td>\n",
              "            <td>22</td>\n",
              "        </tr>\n",
              "    </tbody>\n",
              "</table>"
            ]
          },
          "metadata": {},
          "execution_count": 21
        }
      ]
    },
    {
      "cell_type": "markdown",
      "source": [
        "#(kin_percentage)\n",
        "Get the percentage of students who set their next_of_kin as Mother vs those that set it as Father1."
      ],
      "metadata": {
        "id": "lurHNazl9QEA"
      }
    },
    {
      "cell_type": "code",
      "source": [
        "%%sql\n",
        "SELECT count(next_of_kin_relation) as kin_percentage\n",
        "FROM contact_details\n",
        "WHERE next_of_kin_relation='Mother'\n",
        "GROUP BY next_of_kin_relation;"
      ],
      "metadata": {
        "colab": {
          "base_uri": "https://localhost:8080/",
          "height": 97
        },
        "id": "MRT3VIUE9XBK",
        "outputId": "f38a076a-5a5f-482d-d3ce-ff0b09ef7b56"
      },
      "execution_count": null,
      "outputs": [
        {
          "output_type": "stream",
          "name": "stdout",
          "text": [
            " * sqlite:///stud_db.db\n",
            "Done.\n"
          ]
        },
        {
          "output_type": "execute_result",
          "data": {
            "text/plain": [
              "[(7,)]"
            ],
            "text/html": [
              "<table>\n",
              "    <thead>\n",
              "        <tr>\n",
              "            <th>kin_percentage</th>\n",
              "        </tr>\n",
              "    </thead>\n",
              "    <tbody>\n",
              "        <tr>\n",
              "            <td>7</td>\n",
              "        </tr>\n",
              "    </tbody>\n",
              "</table>"
            ]
          },
          "metadata": {},
          "execution_count": 22
        }
      ]
    },
    {
      "cell_type": "code",
      "source": [
        "%%sql\n",
        "SELECT count(next_of_kin_relation) as kin_percentage\n",
        "FROM contact_details\n",
        "WHERE next_of_kin_relation='Father'\n",
        "GROUP BY next_of_kin_relation;"
      ],
      "metadata": {
        "colab": {
          "base_uri": "https://localhost:8080/",
          "height": 97
        },
        "id": "Eo4ddlP69puF",
        "outputId": "0ee80cbc-01e7-43e5-9526-546c1c5f4116"
      },
      "execution_count": null,
      "outputs": [
        {
          "output_type": "stream",
          "name": "stdout",
          "text": [
            " * sqlite:///stud_db.db\n",
            "Done.\n"
          ]
        },
        {
          "output_type": "execute_result",
          "data": {
            "text/plain": [
              "[(8,)]"
            ],
            "text/html": [
              "<table>\n",
              "    <thead>\n",
              "        <tr>\n",
              "            <th>kin_percentage</th>\n",
              "        </tr>\n",
              "    </thead>\n",
              "    <tbody>\n",
              "        <tr>\n",
              "            <td>8</td>\n",
              "        </tr>\n",
              "    </tbody>\n",
              "</table>"
            ]
          },
          "metadata": {},
          "execution_count": 23
        }
      ]
    }
  ]
}